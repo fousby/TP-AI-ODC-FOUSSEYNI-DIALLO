{
 "cells": [
  {
   "cell_type": "code",
   "execution_count": null,
   "id": "c6710f8f-66ff-4456-9912-11dee721df73",
   "metadata": {},
   "outputs": [],
   "source": [
    "#importation numpy"
   ]
  },
  {
   "cell_type": "code",
   "execution_count": 1,
   "id": "060d258c-7706-4d2c-ade2-f80e2907ad8b",
   "metadata": {},
   "outputs": [],
   "source": [
    "import numpy as np"
   ]
  },
  {
   "cell_type": "code",
   "execution_count": 2,
   "id": "8f6f92c4-f7fd-4c64-ae36-cc972bf650b0",
   "metadata": {},
   "outputs": [
    {
     "data": {
      "text/plain": [
       "'1.21.5'"
      ]
     },
     "execution_count": 2,
     "metadata": {},
     "output_type": "execute_result"
    }
   ],
   "source": [
    "np.__version__"
   ]
  },
  {
   "cell_type": "code",
   "execution_count": null,
   "id": "39e5fbc3-462a-4b42-b995-9e9e27104e98",
   "metadata": {},
   "outputs": [],
   "source": [
    "#tableau scalaire"
   ]
  },
  {
   "cell_type": "code",
   "execution_count": 3,
   "id": "12fea4a4-3fd5-44f7-a943-1d57797e26ea",
   "metadata": {},
   "outputs": [
    {
     "data": {
      "text/plain": [
       "array(5)"
      ]
     },
     "execution_count": 3,
     "metadata": {},
     "output_type": "execute_result"
    }
   ],
   "source": [
    "scalaire = np.array(5)\n",
    "scalaire"
   ]
  },
  {
   "cell_type": "code",
   "execution_count": null,
   "id": "625b9ebd-e8eb-4fa3-904d-ad605657ecb5",
   "metadata": {},
   "outputs": [],
   "source": [
    "#tableau a 1 dimension"
   ]
  },
  {
   "cell_type": "code",
   "execution_count": 4,
   "id": "16b14ecd-c659-4c2e-899e-62e8166318a2",
   "metadata": {},
   "outputs": [
    {
     "data": {
      "text/plain": [
       "array(['1', 'a', '3'], dtype='<U11')"
      ]
     },
     "execution_count": 4,
     "metadata": {},
     "output_type": "execute_result"
    }
   ],
   "source": [
    "vecteur = np.array([1,\"a\",3])\n",
    "vecteur"
   ]
  },
  {
   "cell_type": "code",
   "execution_count": 5,
   "id": "0b11e0ec-6a16-489e-b0b9-fb8e1dfc4f55",
   "metadata": {},
   "outputs": [
    {
     "data": {
      "text/plain": [
       "str"
      ]
     },
     "execution_count": 5,
     "metadata": {},
     "output_type": "execute_result"
    }
   ],
   "source": [
    "type(\"a\")"
   ]
  },
  {
   "cell_type": "code",
   "execution_count": null,
   "id": "e104197c-2571-4a25-97a8-ac074799f89b",
   "metadata": {},
   "outputs": [],
   "source": [
    "#tableau a n dimension ou matrice"
   ]
  },
  {
   "cell_type": "code",
   "execution_count": 6,
   "id": "8dff0784-3f5b-4749-bbcc-31742cd39e17",
   "metadata": {},
   "outputs": [
    {
     "data": {
      "text/plain": [
       "array([[1, 2],\n",
       "       [4, 5],\n",
       "       [7, 8]])"
      ]
     },
     "execution_count": 6,
     "metadata": {},
     "output_type": "execute_result"
    }
   ],
   "source": [
    "matrice = np.array([[1,2],[4,5],[7,8]])\n",
    "matrice"
   ]
  },
  {
   "cell_type": "code",
   "execution_count": null,
   "id": "a927618d-aa12-4565-8d59-bc6f7ac53fee",
   "metadata": {},
   "outputs": [],
   "source": [
    "# Affichage avec print"
   ]
  },
  {
   "cell_type": "code",
   "execution_count": 19,
   "id": "e42ee021-901f-43c8-b948-38b5e1d612a9",
   "metadata": {},
   "outputs": [
    {
     "name": "stdout",
     "output_type": "stream",
     "text": [
      "5\n"
     ]
    }
   ],
   "source": [
    "print(scalaire)"
   ]
  },
  {
   "cell_type": "code",
   "execution_count": 20,
   "id": "2dc188b7-e49c-49da-b31e-eaca22c42674",
   "metadata": {},
   "outputs": [
    {
     "name": "stdout",
     "output_type": "stream",
     "text": [
      "['1' 'a' '3']\n"
     ]
    }
   ],
   "source": [
    "print(vecteur)"
   ]
  },
  {
   "cell_type": "code",
   "execution_count": 21,
   "id": "b046c4f4-7e09-4a88-a012-4a1d5d5b9531",
   "metadata": {},
   "outputs": [
    {
     "name": "stdout",
     "output_type": "stream",
     "text": [
      "[[1 2 3]\n",
      " [4 5 6]\n",
      " [7 8 9]]\n"
     ]
    }
   ],
   "source": [
    "print(matrice)"
   ]
  },
  {
   "cell_type": "code",
   "execution_count": null,
   "id": "1f7e01a4-13c6-4c8d-95e6-ebea479cbd03",
   "metadata": {},
   "outputs": [],
   "source": [
    "#les dimensions "
   ]
  },
  {
   "cell_type": "code",
   "execution_count": 22,
   "id": "c41974de-c02d-4e32-93a5-8458a05b50e8",
   "metadata": {},
   "outputs": [
    {
     "data": {
      "text/plain": [
       "()"
      ]
     },
     "execution_count": 22,
     "metadata": {},
     "output_type": "execute_result"
    }
   ],
   "source": [
    "scalaire.shape"
   ]
  },
  {
   "cell_type": "code",
   "execution_count": 23,
   "id": "a68f19fb-3a53-4c66-95e6-ec57eb579fba",
   "metadata": {},
   "outputs": [
    {
     "data": {
      "text/plain": [
       "(3,)"
      ]
     },
     "execution_count": 23,
     "metadata": {},
     "output_type": "execute_result"
    }
   ],
   "source": [
    "vecteur.shape"
   ]
  },
  {
   "cell_type": "code",
   "execution_count": 30,
   "id": "da892b92-7989-4766-b518-1fc6d206b541",
   "metadata": {},
   "outputs": [
    {
     "data": {
      "text/plain": [
       "(3, 2)"
      ]
     },
     "execution_count": 30,
     "metadata": {},
     "output_type": "execute_result"
    }
   ],
   "source": [
    "matrice.shape"
   ]
  },
  {
   "cell_type": "code",
   "execution_count": null,
   "id": "38e5a971-2b76-43c7-b284-4ca2ee0d0a63",
   "metadata": {},
   "outputs": [],
   "source": [
    "#l'attribut shape"
   ]
  },
  {
   "cell_type": "code",
   "execution_count": 31,
   "id": "978f1a48-854e-4f35-b4ea-87671bc7b904",
   "metadata": {},
   "outputs": [
    {
     "data": {
      "text/plain": [
       "3"
      ]
     },
     "execution_count": 31,
     "metadata": {},
     "output_type": "execute_result"
    }
   ],
   "source": [
    "matrice.shape[0]"
   ]
  },
  {
   "cell_type": "code",
   "execution_count": 32,
   "id": "52dec26a-84ed-4c35-88b1-60c73ade41dd",
   "metadata": {},
   "outputs": [
    {
     "data": {
      "text/plain": [
       "2"
      ]
     },
     "execution_count": 32,
     "metadata": {},
     "output_type": "execute_result"
    }
   ],
   "source": [
    "matrice.shape[1]"
   ]
  },
  {
   "cell_type": "code",
   "execution_count": null,
   "id": "baf2ffb8-6cac-40e2-96c7-7ecf77db7df8",
   "metadata": {},
   "outputs": [],
   "source": [
    "#un vecteur avec une seule valeur"
   ]
  },
  {
   "cell_type": "code",
   "execution_count": 46,
   "id": "52f4336c-6b23-4eaa-886d-cc9132e33aee",
   "metadata": {},
   "outputs": [
    {
     "name": "stdout",
     "output_type": "stream",
     "text": [
      "0\n",
      "10\n"
     ]
    }
   ],
   "source": [
    "scalaire = np.array(0)\n",
    "nbre_dim_1 = np.array([10])\n",
    "print(scalaire)\n",
    "print(nbre_dim_1[0])"
   ]
  },
  {
   "cell_type": "code",
   "execution_count": null,
   "id": "cde97b22-09ea-4d2f-8191-301b9258d57f",
   "metadata": {},
   "outputs": [],
   "source": [
    "la difference entre un objet liste et un objet ndarray"
   ]
  },
  {
   "cell_type": "code",
   "execution_count": 49,
   "id": "e6a5d0cb-e610-4df3-9a50-06f5dcc66a58",
   "metadata": {},
   "outputs": [
    {
     "data": {
      "text/plain": [
       "5"
      ]
     },
     "execution_count": 49,
     "metadata": {},
     "output_type": "execute_result"
    }
   ],
   "source": [
    "liste = [1,2,3,4,5]\n",
    "len(liste)"
   ]
  },
  {
   "cell_type": "code",
   "execution_count": 50,
   "id": "ce5dadfe-713d-4f8d-8873-839f4deb113a",
   "metadata": {},
   "outputs": [
    {
     "data": {
      "text/plain": [
       "2"
      ]
     },
     "execution_count": 50,
     "metadata": {},
     "output_type": "execute_result"
    }
   ],
   "source": [
    "liste = [[1,2,3], [4,5,6]]\n",
    "len (liste)"
   ]
  },
  {
   "cell_type": "code",
   "execution_count": null,
   "id": "63fa43da-1c0f-4666-8cf4-4ea80b479b84",
   "metadata": {},
   "outputs": [],
   "source": [
    "#operateur somme +"
   ]
  },
  {
   "cell_type": "code",
   "execution_count": null,
   "id": "4933b87d-f816-46fb-8220-95f6f92d822d",
   "metadata": {},
   "outputs": [],
   "source": [
    "#somme liste"
   ]
  },
  {
   "cell_type": "code",
   "execution_count": 53,
   "id": "c859901c-3798-40b6-98fd-e791e7936401",
   "metadata": {},
   "outputs": [
    {
     "data": {
      "text/plain": [
       "[1, 2, 3, 4, 5, 6, 7, 8, 9]"
      ]
     },
     "execution_count": 53,
     "metadata": {},
     "output_type": "execute_result"
    }
   ],
   "source": [
    "liste_1=[7,8,9]\n",
    "liste_2=[1,2,3,4,5,6]\n",
    "liste_2 + liste_1"
   ]
  },
  {
   "cell_type": "code",
   "execution_count": null,
   "id": "fc178cf7-6943-4d69-8a85-dd6d6948f561",
   "metadata": {},
   "outputs": [],
   "source": [
    "#somme scalaire"
   ]
  },
  {
   "cell_type": "code",
   "execution_count": 9,
   "id": "98480a14-9dde-4ee4-88fa-8db4331effff",
   "metadata": {},
   "outputs": [
    {
     "data": {
      "text/plain": [
       "array([5, 6])"
      ]
     },
     "execution_count": 9,
     "metadata": {},
     "output_type": "execute_result"
    }
   ],
   "source": [
    "scalaire_1 = np.array([2,3])\n",
    "scalaire_2 = np.array(3)\n",
    "scalaire_1 + scalaire_2"
   ]
  },
  {
   "cell_type": "code",
   "execution_count": 6,
   "id": "6e38150f-9ade-4d10-b46c-79c69f578df1",
   "metadata": {},
   "outputs": [],
   "source": [
    "#somme vecteur"
   ]
  },
  {
   "cell_type": "code",
   "execution_count": 63,
   "id": "db70d7bd-aa7d-4657-98e5-9c9d82c151a0",
   "metadata": {},
   "outputs": [
    {
     "name": "stdout",
     "output_type": "stream",
     "text": [
      "[1 2 3] + [2 8 7] = [ 3 10 10]\n"
     ]
    }
   ],
   "source": [
    "vecteur_1 = np.array([1,2,3])\n",
    "vecteur_2 = np.array([2,8,7])\n",
    "somme_vecteur = vecteur_1 + vecteur_2\n",
    "print(vecteur_1, \"+\", vecteur_2, \"=\", somme_vecteur )"
   ]
  },
  {
   "cell_type": "code",
   "execution_count": 64,
   "id": "7640c957-f2aa-402b-b3ce-7831e85e4c52",
   "metadata": {},
   "outputs": [
    {
     "name": "stdout",
     "output_type": "stream",
     "text": [
      "[[3 5 9]\n",
      " [2 5 8]\n",
      " [1 0 3]]\n",
      "+\n",
      "[[1 6 0]\n",
      " [1 7 2]\n",
      " [2 8 0]]\n",
      "=\n",
      "[[ 4 11  9]\n",
      " [ 3 12 10]\n",
      " [ 3  8  3]]\n"
     ]
    }
   ],
   "source": [
    "#somme matrice \n",
    "matrice_1 = np.array([[3,5,9],[2,5,8],[1,0,3]])\n",
    "matrice_2 = np.array([[1,6,0],[1,7,2],[2,8,0]])\n",
    "somme_matrice = matrice_1 + matrice_2\n",
    "print(matrice_1)\n",
    "print(\"+\")\n",
    "print(matrice_2)\n",
    "print(\"=\")\n",
    "print(somme_matrice)"
   ]
  },
  {
   "cell_type": "code",
   "execution_count": null,
   "id": "fd5da9e3-f682-4a5d-8d54-93fb21d8cd66",
   "metadata": {},
   "outputs": [],
   "source": [
    "#multiplication scalaire"
   ]
  },
  {
   "cell_type": "code",
   "execution_count": 4,
   "id": "5555917a-aa52-4ea8-aab5-9007d4c14dd4",
   "metadata": {},
   "outputs": [
    {
     "data": {
      "text/plain": [
       "6"
      ]
     },
     "execution_count": 4,
     "metadata": {},
     "output_type": "execute_result"
    }
   ],
   "source": [
    "scalaire = np.array(3)\n",
    "scalaire * 2"
   ]
  },
  {
   "cell_type": "code",
   "execution_count": null,
   "id": "953cb4b8-77da-463d-95ac-cb961a6a6b5a",
   "metadata": {},
   "outputs": [],
   "source": [
    "#multiplication vecteurs"
   ]
  },
  {
   "cell_type": "code",
   "execution_count": 7,
   "id": "03f4572a-2d6e-401c-8994-06dfcdf47f4e",
   "metadata": {},
   "outputs": [
    {
     "data": {
      "text/plain": [
       "array([3, 6, 0])"
      ]
     },
     "execution_count": 7,
     "metadata": {},
     "output_type": "execute_result"
    }
   ],
   "source": [
    "vecteur = np.array([1,2,3])\n",
    "vecteur_1= np.array([3,3,0])\n",
    "vecteur * vecteur_1"
   ]
  },
  {
   "cell_type": "code",
   "execution_count": null,
   "id": "6fdc61d3-d390-40f4-93ff-9cfb85e7f955",
   "metadata": {},
   "outputs": [],
   "source": [
    "#multiplication matrice"
   ]
  },
  {
   "cell_type": "code",
   "execution_count": 7,
   "id": "33697725-3ce4-445b-bc84-0e38e6a0e0a8",
   "metadata": {},
   "outputs": [
    {
     "name": "stdout",
     "output_type": "stream",
     "text": [
      "[[1 2 3]\n",
      " [4 5 6]]\n",
      "fois\n",
      "[[9 3 1]\n",
      " [3 2 6]]\n",
      "=\n",
      "[[ 9  6  3]\n",
      " [12 10 36]]\n"
     ]
    }
   ],
   "source": [
    "matrice_1= np.array([[1,2,3],[4,5,6]])\n",
    "matrice_2= np.array([[9,3,1],[3,2,6]])\n",
    "somme_matrice = matrice_1 * matrice_2\n",
    "print(matrice_1)\n",
    "print(\"fois\")\n",
    "print(matrice_2)\n",
    "print(\"=\")\n",
    "print(somme_matrice)"
   ]
  },
  {
   "cell_type": "code",
   "execution_count": null,
   "id": "d614184e-aece-4e74-9901-6390fa510b40",
   "metadata": {},
   "outputs": [],
   "source": [
    "#la boucle "
   ]
  },
  {
   "cell_type": "code",
   "execution_count": 11,
   "id": "4b063a3b-f2bb-4947-ae9c-2205f03859bd",
   "metadata": {},
   "outputs": [
    {
     "data": {
      "text/plain": [
       "[2, 4, 6]"
      ]
     },
     "execution_count": 11,
     "metadata": {},
     "output_type": "execute_result"
    }
   ],
   "source": [
    "nbre =([1,2,3])\n",
    "[a*2 for a in nbre]"
   ]
  },
  {
   "cell_type": "code",
   "execution_count": 15,
   "id": "3ea9179f-4ca0-4118-9a30-f31e62a7bd95",
   "metadata": {},
   "outputs": [
    {
     "data": {
      "text/plain": [
       "[6, 10, 15]"
      ]
     },
     "execution_count": 15,
     "metadata": {},
     "output_type": "execute_result"
    }
   ],
   "source": [
    "A_1=([2,4,8])\n",
    "A_2=([4,6,7])\n",
    "[An + Am for An,Am in zip(A_1,A_2)]"
   ]
  },
  {
   "cell_type": "code",
   "execution_count": null,
   "id": "b4ade124-35ff-4283-b077-3ffe9e2a56bc",
   "metadata": {},
   "outputs": [],
   "source": [
    "#les fonctions"
   ]
  },
  {
   "cell_type": "code",
   "execution_count": null,
   "id": "365ea73d-0db2-4135-8d7a-642249b5ae0f",
   "metadata": {},
   "outputs": [],
   "source": [
    "#importation de logarithme népérien"
   ]
  },
  {
   "cell_type": "code",
   "execution_count": null,
   "id": "49251963-eb27-42ed-9218-73bcdcb0bf64",
   "metadata": {},
   "outputs": [],
   "source": [
    "#fonctions avec une liste simple"
   ]
  },
  {
   "cell_type": "code",
   "execution_count": 9,
   "id": "fc5dbf06-f78d-453b-9c36-b8b4d1ebbd4c",
   "metadata": {},
   "outputs": [],
   "source": [
    "from math import log\n",
    "liste =[1,2,3,4]"
   ]
  },
  {
   "cell_type": "code",
   "execution_count": null,
   "id": "aafe86d4-37bd-484b-aeb7-c05525b672f9",
   "metadata": {},
   "outputs": [],
   "source": [
    "#fonction avec vecteur"
   ]
  },
  {
   "cell_type": "code",
   "execution_count": 66,
   "id": "08fb5c51-3cc5-4686-9692-99eb772387dc",
   "metadata": {},
   "outputs": [
    {
     "data": {
      "text/plain": [
       "array([0.        , 1.09861229, 1.94591015])"
      ]
     },
     "execution_count": 66,
     "metadata": {},
     "output_type": "execute_result"
    }
   ],
   "source": [
    "vecteur=np.array([1,3,7])\n",
    "np.log(vecteur)"
   ]
  },
  {
   "cell_type": "markdown",
   "id": "afab6f5a-7ac7-4b39-bea6-f3a9bbdb9ef0",
   "metadata": {},
   "source": [
    "#fonctions avec la matrice"
   ]
  },
  {
   "cell_type": "code",
   "execution_count": 70,
   "id": "ba10bfef-40d8-4840-bbb3-1675cd8b7a4f",
   "metadata": {},
   "outputs": [
    {
     "data": {
      "text/plain": [
       "array([[1.41421356, 1.73205081, 2.23606798],\n",
       "       [1.        , 1.73205081, 1.73205081],\n",
       "       [5.        , 6.        , 9.        ]])"
      ]
     },
     "execution_count": 70,
     "metadata": {},
     "output_type": "execute_result"
    }
   ],
   "source": [
    "matrice = np.array([[2,3,5],[1,3,3],[25,36,81]])\n",
    "np.sqrt(matrice)"
   ]
  },
  {
   "cell_type": "code",
   "execution_count": null,
   "id": "cfc0429b-71b2-47e4-aacd-3536cc24c824",
   "metadata": {},
   "outputs": [],
   "source": [
    "#exponentiel"
   ]
  },
  {
   "cell_type": "code",
   "execution_count": 64,
   "id": "24d7a642-c8ed-486d-aed8-d0effb11f8d6",
   "metadata": {},
   "outputs": [
    {
     "data": {
      "text/plain": [
       "array([ 2.71828183,  7.3890561 , 20.08553692])"
      ]
     },
     "execution_count": 64,
     "metadata": {},
     "output_type": "execute_result"
    }
   ],
   "source": [
    "vecteur = np.array([1,2,3])\n",
    "np.exp(vecteur)"
   ]
  },
  {
   "cell_type": "code",
   "execution_count": null,
   "id": "8b78658e-4baf-4514-bafc-086f9712bfcb",
   "metadata": {},
   "outputs": [],
   "source": [
    "#la longeur"
   ]
  },
  {
   "cell_type": "code",
   "execution_count": 72,
   "id": "cd5e0920-920d-4990-850f-6d6eaa9165dd",
   "metadata": {},
   "outputs": [
    {
     "data": {
      "text/plain": [
       "([1, 3, 3], [1, 3, 3, 3], [1, 4, 8, 9, 7])"
      ]
     },
     "execution_count": 72,
     "metadata": {},
     "output_type": "execute_result"
    }
   ],
   "source": [
    "liste_des_listes =[1,3,3],[1,3,3,3],[1,4,8,9,7]\n",
    "liste_des_listes"
   ]
  },
  {
   "cell_type": "code",
   "execution_count": null,
   "id": "aa096e25-2d74-4b0f-8762-3f4fe515e314",
   "metadata": {},
   "outputs": [],
   "source": [
    "#matrice erreur"
   ]
  },
  {
   "cell_type": "code",
   "execution_count": 14,
   "id": "bb3d01ca-135f-49dc-b8fa-4c5e12743d3c",
   "metadata": {},
   "outputs": [],
   "source": [
    "# matrice = np.array([2,3,2],[2,7,8])\n",
    "# matrice"
   ]
  },
  {
   "cell_type": "code",
   "execution_count": null,
   "id": "b7692d60-70a2-497f-859a-e118372015d8",
   "metadata": {},
   "outputs": [],
   "source": [
    "#Quelque action avec np"
   ]
  },
  {
   "cell_type": "code",
   "execution_count": 15,
   "id": "1aca71e3-40f7-4620-bc23-a8dfc9f29930",
   "metadata": {},
   "outputs": [
    {
     "name": "stdout",
     "output_type": "stream",
     "text": [
      "[0 0 0]\n",
      "[0 0 0]\n",
      "[1. 1. 1. 1.]\n",
      "[1 1 1]\n",
      "[1.00994072e-311 0.00000000e+000 6.47591605e-319]\n",
      "[-261605104        475          0]\n",
      "['Bil' 'Bil' 'Bil' 'Bil']\n",
      "['1' '2' '3']\n",
      "5\n",
      "1\n",
      "10\n",
      "2.25\n",
      "0\n",
      "2\n",
      "2.5\n",
      "1.5\n"
     ]
    }
   ],
   "source": [
    "An=[1,2,3]\n",
    "Bn=[\"Ba\",\"Bb\",\"Bc\"]\n",
    "A= np.zeros(3,int)\n",
    "print(A)\n",
    "B=np.zeros_like(An)\n",
    "print(B)\n",
    "C=np.ones(4)\n",
    "print(C)\n",
    "D=np.ones_like(B)\n",
    "print(D)\n",
    "E=np.empty(3)\n",
    "print(E)\n",
    "F=np.empty_like(D)\n",
    "print(F)\n",
    "G=np.full(4,\"Bil\")\n",
    "print(G)\n",
    "H=np.full_like(Bn,An)\n",
    "print(H)\n",
    "a=np.max([1,2,5,2])\n",
    "print (a)\n",
    "b=np.min([1,2,5,2])\n",
    "print(b)\n",
    "c=np.sum([1,2,5,2])\n",
    "print(c)\n",
    "d=np.var([1,2,5,2])\n",
    "print(d)\n",
    "d=np.argmin([1,2,5,2])\n",
    "print(d)\n",
    "d=np.argmax([1,2,5,2])\n",
    "print(d)\n",
    "d=np.mean([1,2,5,2])\n",
    "print(d)\n",
    "d=np.std([1,2,5,2])\n",
    "print(d)"
   ]
  },
  {
   "cell_type": "code",
   "execution_count": 11,
   "id": "c9024aa7-a857-4f6a-9313-1c4cac15a083",
   "metadata": {},
   "outputs": [
    {
     "name": "stdout",
     "output_type": "stream",
     "text": [
      "[[[6.23042070e-307 4.67296746e-307 1.69121096e-306]\n",
      "  [1.89143671e-307 6.23047503e-307 2.22526399e-307]]]\n"
     ]
    }
   ],
   "source": [
    "E=np.array([1,2,3])\n",
    "A=np.empty(E)\n",
    "print(A)"
   ]
  },
  {
   "cell_type": "code",
   "execution_count": 61,
   "id": "a4525fb6-8a10-4006-a955-0ec9cf87d90a",
   "metadata": {},
   "outputs": [
    {
     "name": "stdout",
     "output_type": "stream",
     "text": [
      "[0 1 2 3]\n",
      "[0 1 2 3 4]\n",
      "[ 0  2  4  6  8 10]\n",
      "[0.   1.25 2.5  3.75 5.  ]\n",
      "[0. 1.]\n"
     ]
    }
   ],
   "source": [
    "A=np.arange(4)\n",
    "print(A)\n",
    "B=np.arange(0,5)\n",
    "print(B)\n",
    "C=np.arange(0,10+1,2)\n",
    "print(C)\n",
    "D=np.linspace(0,5,5)\n",
    "print(D)\n",
    "E=np.linspace(0,1,2)\n",
    "print(E)"
   ]
  },
  {
   "cell_type": "code",
   "execution_count": null,
   "id": "19326c7f-bb10-44af-9d7c-56517c03bc1a",
   "metadata": {},
   "outputs": [],
   "source": [
    "#dimension aléatoire"
   ]
  },
  {
   "cell_type": "code",
   "execution_count": 13,
   "id": "53a78cd8-f4fa-4930-9253-da03eac060d1",
   "metadata": {},
   "outputs": [
    {
     "name": "stdout",
     "output_type": "stream",
     "text": [
      "[9 0 3 6]\n",
      "[0.7164632  0.19845414 0.73022862 0.38464761 0.0275951 ]\n",
      "[1.38957266 0.80386922 0.4901907  0.03424971]\n",
      "[8.56231595 9.85766279 1.41363388]\n",
      "[4.53534187 2.96003304 5.94191737]\n"
     ]
    }
   ],
   "source": [
    "A=np.random.randint(0,10,4)\n",
    "print(A)\n",
    "B=np.random.rand(5)\n",
    "print(B)\n",
    "C=np.random.randn(4)\n",
    "print(C)\n",
    "D=np.random.uniform(1,10,3)\n",
    "print(D)\n",
    "E=np.random.normal(5,2,3)\n",
    "print(E)"
   ]
  },
  {
   "cell_type": "code",
   "execution_count": 14,
   "id": "5f1b3828-e58d-4356-82ed-34fc91dc511c",
   "metadata": {},
   "outputs": [
    {
     "data": {
      "text/plain": [
       "array([-0.36822882,  1.91795762,  0.12283327, -0.31164224])"
      ]
     },
     "execution_count": 14,
     "metadata": {},
     "output_type": "execute_result"
    }
   ],
   "source": [
    "rang =np.random.default_rng()\n",
    "rang.integers(0,10,3)\n",
    "rang.random(3)\n",
    "rang.standard_normal(4)"
   ]
  },
  {
   "cell_type": "code",
   "execution_count": 16,
   "id": "a8a2af86-92ed-4428-9402-92f9c4424563",
   "metadata": {},
   "outputs": [
    {
     "name": "stdout",
     "output_type": "stream",
     "text": [
      "[3 4 5]\n",
      "[1 2 8 8 5]\n"
     ]
    }
   ],
   "source": [
    "#indexation \n",
    "a=np.arange(1,6)\n",
    "a[2]\n",
    "a[2:4]\n",
    "b=a[-3:]\n",
    "print(b)\n",
    "a[::2]\n",
    "a[[2,3,4]]\n",
    "a[2:4] = 0\n",
    "a[2:4] = 8\n",
    "print (a)"
   ]
  },
  {
   "cell_type": "code",
   "execution_count": 63,
   "id": "2a421f23-e204-433b-ae3b-25f6c10a9552",
   "metadata": {},
   "outputs": [
    {
     "name": "stdout",
     "output_type": "stream",
     "text": [
      "True\n",
      "False\n",
      "(array([3, 4, 5, 6, 7, 8, 9], dtype=int64),)\n",
      "[0 0 0 0 1 1 1 1 1 0 0 0 0]\n",
      "[3 3 3 4 5 5 5 5 5 4 3 3 3]\n"
     ]
    }
   ],
   "source": [
    "#indexation complexe\n",
    "a=np.array([1,2,3,4,5,6,7,6,5,4,3,2,1])\n",
    "A_1=np.any(a > 5)\n",
    "A_2=np.all(a > 5)\n",
    "print(A_1)\n",
    "print(A_2)\n",
    "#a=a[a>5]\n",
    "#print(a)\n",
    "#A_3=a[a>5]=8\n",
    "#a[(a>=3)&(a<=5)]=0\n",
    "b=np.nonzero(a>3)\n",
    "print(b)\n",
    "c=np.where(a>=5,1,0)\n",
    "print(c)\n",
    "d=np.clip(a,3,5)\n",
    "print(d)"
   ]
  },
  {
   "cell_type": "code",
   "execution_count": null,
   "id": "22b50631-9082-44a9-b574-0168b9d017b5",
   "metadata": {},
   "outputs": [],
   "source": []
  }
 ],
 "metadata": {
  "kernelspec": {
   "display_name": "Python 3 (ipykernel)",
   "language": "python",
   "name": "python3"
  },
  "language_info": {
   "codemirror_mode": {
    "name": "ipython",
    "version": 3
   },
   "file_extension": ".py",
   "mimetype": "text/x-python",
   "name": "python",
   "nbconvert_exporter": "python",
   "pygments_lexer": "ipython3",
   "version": "3.9.13"
  }
 },
 "nbformat": 4,
 "nbformat_minor": 5
}
